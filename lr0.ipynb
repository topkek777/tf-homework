{
  "nbformat": 4,
  "nbformat_minor": 0,
  "metadata": {
    "colab": {
      "provenance": [],
      "authorship_tag": "ABX9TyP2avDW5I1AZ8oL6/ezykK/",
      "include_colab_link": true
    },
    "kernelspec": {
      "name": "python3",
      "display_name": "Python 3"
    },
    "language_info": {
      "name": "python"
    }
  },
  "cells": [
    {
      "cell_type": "markdown",
      "metadata": {
        "id": "view-in-github",
        "colab_type": "text"
      },
      "source": [
        "<a href=\"https://colab.research.google.com/github/topkek777/tf-homework/blob/master/lr0.ipynb\" target=\"_parent\"><img src=\"https://colab.research.google.com/assets/colab-badge.svg\" alt=\"Open In Colab\"/></a>"
      ]
    },
    {
      "cell_type": "markdown",
      "source": [
        "## Работа №0"
      ],
      "metadata": {
        "id": "oSXULRo7QspN"
      }
    },
    {
      "cell_type": "markdown",
      "source": [
        "# To Do:\n",
        "1) Create a vector, scalar, matrix and tensor with values of your choosing using\n",
        "tf.constant().\n",
        "\n",
        "2) Find the shape, rank and size of the tensors you created in 1.\n",
        "\n",
        "3) Create two tensors containing random values between 0 and 1 with shape [5, 300].\n",
        "\n",
        "4) Multiply the two tensors you created in 3 using matrix multiplication.\n",
        "\n",
        "5) Multiply the two tensors you created in 3 using dot product.\n",
        "\n",
        "6) Create a tensor with random values between 0 and 1 with shape [224, 224, 3].\n",
        "\n",
        "7) Find the min and max values of the tensor you created in 6.\n",
        "\n",
        "8) Created a tensor with random values of shape [1, 224, 224, 3] then squeeze it to change the shape to [224, 224, 3].\n",
        "\n",
        "9) Create a tensor with shape [10] using your own choice of values, then find the index which has the maximum value.\n",
        "\n",
        "10) One-hot encode the tensor you created in 9."
      ],
      "metadata": {
        "id": "KAJnHX_EQyOM"
      }
    },
    {
      "cell_type": "code",
      "execution_count": 1,
      "metadata": {
        "id": "_FK2NxN-QOq-"
      },
      "outputs": [],
      "source": [
        "import tensorflow as tf"
      ]
    },
    {
      "cell_type": "markdown",
      "source": [
        "1) Create a vector, scalar, matrix and tensor with values of your choosing using tf.constant()."
      ],
      "metadata": {
        "id": "MpikGJLWRqlb"
      }
    },
    {
      "cell_type": "code",
      "source": [
        "# Create a scalar (rank 0 tensor)\n",
        "scalar = tf.constant(42)\n",
        "scalar"
      ],
      "metadata": {
        "colab": {
          "base_uri": "https://localhost:8080/"
        },
        "id": "wyK4QBFCQf7q",
        "outputId": "a2da5fdf-5462-431b-be76-4dfbfdf7dbe3"
      },
      "execution_count": 3,
      "outputs": [
        {
          "output_type": "execute_result",
          "data": {
            "text/plain": [
              "<tf.Tensor: shape=(), dtype=int32, numpy=42>"
            ]
          },
          "metadata": {},
          "execution_count": 3
        }
      ]
    },
    {
      "cell_type": "code",
      "source": [
        "# Create a vector (more than 0 dimensions)\n",
        "vector = tf.constant([42, 42])\n",
        "vector"
      ],
      "metadata": {
        "colab": {
          "base_uri": "https://localhost:8080/"
        },
        "id": "aTJBVR0GQm0k",
        "outputId": "db3574ef-e9f8-49fc-adea-ab3eb749e728"
      },
      "execution_count": 4,
      "outputs": [
        {
          "output_type": "execute_result",
          "data": {
            "text/plain": [
              "<tf.Tensor: shape=(2,), dtype=int32, numpy=array([42, 42], dtype=int32)>"
            ]
          },
          "metadata": {},
          "execution_count": 4
        }
      ]
    },
    {
      "cell_type": "code",
      "source": [
        "# Create a matrix (more than 1 dimension)\n",
        "matrix = tf.constant([[1, 2],\n",
        "                      [3, 4]])\n",
        "matrix"
      ],
      "metadata": {
        "colab": {
          "base_uri": "https://localhost:8080/"
        },
        "id": "PZmQeeVRQodG",
        "outputId": "f2614b24-d1fa-464d-b172-c44b4755469e"
      },
      "execution_count": 5,
      "outputs": [
        {
          "output_type": "execute_result",
          "data": {
            "text/plain": [
              "<tf.Tensor: shape=(2, 2), dtype=int32, numpy=\n",
              "array([[1, 2],\n",
              "       [3, 4]], dtype=int32)>"
            ]
          },
          "metadata": {},
          "execution_count": 5
        }
      ]
    },
    {
      "cell_type": "code",
      "source": [
        "# Create a tensor\n",
        "tensor = tf.constant([[[1, 2], [3, 4]], [[5, 6], [7, 8]]])\n",
        "tensor"
      ],
      "metadata": {
        "colab": {
          "base_uri": "https://localhost:8080/"
        },
        "id": "uZrT75ysRxGN",
        "outputId": "1373789c-82e7-4aca-85ee-60a50c3f35cc"
      },
      "execution_count": 7,
      "outputs": [
        {
          "output_type": "execute_result",
          "data": {
            "text/plain": [
              "<tf.Tensor: shape=(2, 2, 2), dtype=int32, numpy=\n",
              "array([[[1, 2],\n",
              "        [3, 4]],\n",
              "\n",
              "       [[5, 6],\n",
              "        [7, 8]]], dtype=int32)>"
            ]
          },
          "metadata": {},
          "execution_count": 7
        }
      ]
    },
    {
      "cell_type": "markdown",
      "source": [
        "2) Find the shape, rank and size of the tensors you created in 1."
      ],
      "metadata": {
        "id": "ipdOCdfCSExG"
      }
    },
    {
      "cell_type": "markdown",
      "source": [
        "Shape: The length (number of elements) of each of the dimensions of a tensor.\n",
        "\n",
        "Rank: The number of tensor dimensions. A scalar has rank 0, a vector has rank 1, a matrix is rank 2, a tensor has rank n.\n",
        "\n",
        "Axis or Dimension: A particular dimension of a tensor.\n",
        "\n",
        "Size: The total number of items in the tensor."
      ],
      "metadata": {
        "id": "XpCfwWzSStRX"
      }
    },
    {
      "cell_type": "code",
      "source": [
        "print('Shapes:', scalar.shape, vector.shape, matrix.shape, tensor.shape)\n",
        "print('Ranks:', scalar.ndim, vector.ndim, matrix.ndim, tensor.ndim)\n",
        "print('Sizes:', tf.size(scalar), tf.size(vector), tf.size(matrix), tf.size(tensor))"
      ],
      "metadata": {
        "colab": {
          "base_uri": "https://localhost:8080/"
        },
        "id": "798GxFjASFPL",
        "outputId": "77518bc6-68e1-49bb-f470-b22b03a9d8ed"
      },
      "execution_count": 16,
      "outputs": [
        {
          "output_type": "stream",
          "name": "stdout",
          "text": [
            "Shapes: () (2,) (2, 2) (2, 2, 2)\n",
            "Ranks: 0 1 2 3\n",
            "Sizes: tf.Tensor(1, shape=(), dtype=int32) tf.Tensor(2, shape=(), dtype=int32) tf.Tensor(4, shape=(), dtype=int32) tf.Tensor(8, shape=(), dtype=int32)\n"
          ]
        }
      ]
    },
    {
      "cell_type": "markdown",
      "source": [
        "3) Create two tensors containing random values between 0 and 1 with shape [5, 300]."
      ],
      "metadata": {
        "id": "SnpDOUP0TXJ1"
      }
    },
    {
      "cell_type": "code",
      "source": [
        "tensor1 = tf.random.uniform(shape=[5, 300])\n",
        "tensor2 = tf.random.uniform(shape=[5, 300])"
      ],
      "metadata": {
        "id": "pfgDEZ5rTXuf"
      },
      "execution_count": 17,
      "outputs": []
    },
    {
      "cell_type": "markdown",
      "source": [
        "4) Multiply the two tensors you created in 3 using matrix multiplication."
      ],
      "metadata": {
        "id": "qv5RDNuvTu3D"
      }
    },
    {
      "cell_type": "code",
      "source": [
        "result = tf.multiply(tensor1, tensor2)\n",
        "result"
      ],
      "metadata": {
        "colab": {
          "base_uri": "https://localhost:8080/"
        },
        "id": "UrIagvVbTujb",
        "outputId": "aa0e12cf-a743-404b-87b1-65dc2077e69f"
      },
      "execution_count": 20,
      "outputs": [
        {
          "output_type": "execute_result",
          "data": {
            "text/plain": [
              "<tf.Tensor: shape=(5, 300), dtype=float32, numpy=\n",
              "array([[0.33430195, 0.00598932, 0.20101441, ..., 0.03991862, 0.32227737,\n",
              "        0.43753165],\n",
              "       [0.32950863, 0.08231224, 0.09359987, ..., 0.1770603 , 0.5018234 ,\n",
              "        0.31827858],\n",
              "       [0.56578106, 0.4458176 , 0.7470795 , ..., 0.27803767, 0.0473389 ,\n",
              "        0.43611044],\n",
              "       [0.88283485, 0.5720689 , 0.629519  , ..., 0.0438647 , 0.39843524,\n",
              "        0.00623489],\n",
              "       [0.83110607, 0.6718983 , 0.47449124, ..., 0.36884633, 0.05151011,\n",
              "        0.62479776]], dtype=float32)>"
            ]
          },
          "metadata": {},
          "execution_count": 20
        }
      ]
    },
    {
      "cell_type": "markdown",
      "source": [
        "5) Multiply the two tensors you created in 3 using dot product."
      ],
      "metadata": {
        "id": "aft2pBJcUCjO"
      }
    },
    {
      "cell_type": "code",
      "source": [
        "dot_result = tf.matmul(tf.transpose(tensor1), tensor2)\n",
        "dot_result"
      ],
      "metadata": {
        "colab": {
          "base_uri": "https://localhost:8080/"
        },
        "id": "nqe6CCwmUHD9",
        "outputId": "403d77f8-43c9-4167-cc3e-915173e47460"
      },
      "execution_count": 23,
      "outputs": [
        {
          "output_type": "execute_result",
          "data": {
            "text/plain": [
              "<tf.Tensor: shape=(300, 300), dtype=float32, numpy=\n",
              "array([[2.9435327 , 2.5184865 , 2.4776802 , ..., 1.6358689 , 2.4877474 ,\n",
              "        2.497054  ],\n",
              "       [2.2264597 , 1.7780864 , 2.0321155 , ..., 1.1612139 , 1.2108742 ,\n",
              "        1.479272  ],\n",
              "       [2.5054176 , 2.0282588 , 2.145704  , ..., 1.4873158 , 1.9705812 ,\n",
              "        2.0787296 ],\n",
              "       ...,\n",
              "       [2.1801107 , 2.1264164 , 1.8597579 , ..., 0.9077276 , 1.7707038 ,\n",
              "        1.7317197 ],\n",
              "       [1.4229778 , 1.2461083 , 1.2647132 , ..., 0.62122005, 1.321385  ,\n",
              "        0.97276264],\n",
              "       [2.055008  , 1.477285  , 1.8463737 , ..., 1.523009  , 1.628463  ,\n",
              "        1.8229532 ]], dtype=float32)>"
            ]
          },
          "metadata": {},
          "execution_count": 23
        }
      ]
    },
    {
      "cell_type": "markdown",
      "source": [
        "6) Create a tensor with random values between 0 and 1 with shape [224, 224, 3]."
      ],
      "metadata": {
        "id": "ZUzWYXlqUvM2"
      }
    },
    {
      "cell_type": "code",
      "source": [
        "tensor3 = tf.random.uniform(shape=[224, 224, 3])"
      ],
      "metadata": {
        "id": "5WgWi18ZUu1e"
      },
      "execution_count": 24,
      "outputs": []
    },
    {
      "cell_type": "markdown",
      "source": [
        "7) Find the min and max values of the tensor you created in 6."
      ],
      "metadata": {
        "id": "VxIU-TEHU2PQ"
      }
    },
    {
      "cell_type": "code",
      "source": [
        "min_val = tf.reduce_min(tensor3)\n",
        "max_val = tf.reduce_max(tensor3)\n",
        "print(\"min:\", min_val, \"max:\", max_val)"
      ],
      "metadata": {
        "colab": {
          "base_uri": "https://localhost:8080/"
        },
        "id": "bwe55sa3U2wk",
        "outputId": "1c33c90b-5296-4602-9e63-53e7e1c71d5a"
      },
      "execution_count": 26,
      "outputs": [
        {
          "output_type": "stream",
          "name": "stdout",
          "text": [
            "min: tf.Tensor(1.0728836e-06, shape=(), dtype=float32) max: tf.Tensor(0.99999547, shape=(), dtype=float32)\n"
          ]
        }
      ]
    },
    {
      "cell_type": "markdown",
      "source": [
        "8) Create a tensor with random values of shape [1, 224, 224, 3] then squeeze it to change the shape to [224, 224, 3]."
      ],
      "metadata": {
        "id": "Vqx3AhgnVQI2"
      }
    },
    {
      "cell_type": "code",
      "source": [
        "tensor4 = tf.random.uniform(shape=[1, 224, 224, 3])\n",
        "\n",
        "squeezed_tensor = tf.squeeze(tensor4)\n",
        "print(squeezed_tensor.shape)"
      ],
      "metadata": {
        "colab": {
          "base_uri": "https://localhost:8080/"
        },
        "id": "XJ58Mu0UVUMO",
        "outputId": "80b55b99-a113-4649-bfd9-4e31a1042bcf"
      },
      "execution_count": 28,
      "outputs": [
        {
          "output_type": "stream",
          "name": "stdout",
          "text": [
            "(224, 224, 3)\n"
          ]
        }
      ]
    },
    {
      "cell_type": "markdown",
      "source": [
        "9) Create a tensor with shape [10] using your own choice of values, then find the index which has the maximum value."
      ],
      "metadata": {
        "id": "8vjRtLTAVR-s"
      }
    },
    {
      "cell_type": "code",
      "source": [
        "tensor5 = tf.constant([5, 7, 2, 8, 1, 9, 3, 6, 4, 0])\n",
        "\n",
        "max_index = tf.argmax(tensor)\n",
        "print(\"Index of maximum value:\", max_index.numpy())"
      ],
      "metadata": {
        "colab": {
          "base_uri": "https://localhost:8080/"
        },
        "id": "rPf46A6eVrr5",
        "outputId": "819fd51d-b1b9-4384-b4e4-39537ea4e9f7"
      },
      "execution_count": 30,
      "outputs": [
        {
          "output_type": "stream",
          "name": "stdout",
          "text": [
            "Index of maximum value: 5\n"
          ]
        }
      ]
    },
    {
      "cell_type": "markdown",
      "source": [
        "10) One-hot encode the tensor you created in 9."
      ],
      "metadata": {
        "id": "W0MLYcQeVTnn"
      }
    },
    {
      "cell_type": "code",
      "source": [
        "one_hot_tensor = tf.one_hot(tensor, depth=10)\n",
        "\n",
        "print(\"Original Tensor:\", tensor.numpy())\n",
        "print(\"One-hot Encoded Tensor:\\n\", one_hot_tensor.numpy())"
      ],
      "metadata": {
        "colab": {
          "base_uri": "https://localhost:8080/"
        },
        "id": "U2jn8tYRWAZc",
        "outputId": "ec28118f-77cc-419a-d329-200d180828df"
      },
      "execution_count": 31,
      "outputs": [
        {
          "output_type": "stream",
          "name": "stdout",
          "text": [
            "Original Tensor: [5 7 2 8 1 9 3 6 4 0]\n",
            "One-hot Encoded Tensor:\n",
            " [[0. 0. 0. 0. 0. 1. 0. 0. 0. 0.]\n",
            " [0. 0. 0. 0. 0. 0. 0. 1. 0. 0.]\n",
            " [0. 0. 1. 0. 0. 0. 0. 0. 0. 0.]\n",
            " [0. 0. 0. 0. 0. 0. 0. 0. 1. 0.]\n",
            " [0. 1. 0. 0. 0. 0. 0. 0. 0. 0.]\n",
            " [0. 0. 0. 0. 0. 0. 0. 0. 0. 1.]\n",
            " [0. 0. 0. 1. 0. 0. 0. 0. 0. 0.]\n",
            " [0. 0. 0. 0. 0. 0. 1. 0. 0. 0.]\n",
            " [0. 0. 0. 0. 1. 0. 0. 0. 0. 0.]\n",
            " [1. 0. 0. 0. 0. 0. 0. 0. 0. 0.]]\n"
          ]
        }
      ]
    }
  ]
}